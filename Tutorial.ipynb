{
 "cells": [
  {
   "cell_type": "code",
   "execution_count": 2,
   "metadata": {},
   "outputs": [],
   "source": [
    "import sys\n",
    "sys.path.insert(0, 'G://My Drive//Current Projects//Angstrom Method//Angstrom-method')\n",
    "# save blmcmc.py into the path specified in the directory above.\n",
    "\n",
    "from blmcmc import temperature_preprocessing_extract_phase_amplitude, Metropolis_Hasting_sampler,least_square_regression_Angstrom, post_processing_results, multi_chain_Metropolis_Hasting\n",
    "import pandas as pd\n",
    "import numpy as np\n",
    "import matplotlib.pyplot as plt"
   ]
  },
  {
   "cell_type": "code",
   "execution_count": null,
   "metadata": {},
   "outputs": [],
   "source": [
    "directory_path = \"C://Users//YuanYuan//Desktop//Amgstrom_method//\" \n",
    "\n",
    "\"\"\"\n",
    "# This is the directory of the project, within this project, please create three folders with these names:\n",
    "\n",
    "1. temperature data\n",
    "2. time data\n",
    "3. phase amplitude data\n",
    "\n",
    "In the first folder, please create Folders where you save temperature csv files. For example, you have a IR video recording named\n",
    "IR_recording_X, then first you should create a folder under 'temperature data' called 'IR_recording_X'. Then you should\n",
    "export IR images from the IR video as csv files under this naming conventions, IR_recording_X_i.csv, where i indicate ith \n",
    "IR image.\n",
    "\n",
    "In the second folder, you need to indicate the time sequence that corresponds to the temperature csv files. In Filr software,\n",
    "Just create any region of interest and create a complete temporal plot, output this temporal plot as a csv file and name it under\n",
    "this convention: IR_recording_X_time.csv, then place this csv file into 'time data' folder.\n",
    "\n",
    "\n",
    "The third folder save processed temperature measurement results and obtain phase and amplitude within the region of analysis on the sample\n",
    "\n",
    "\"\"\"\n",
    "file_name = 'Rec-000833' # The format of the file name, for instance, IR image as csv files in IR video should be saved as Rec-000833_0.csv,...Rec-000833_j.csv,...Rec-000833_N.csv\n",
    "f_heating = 0.4 #periodic heating frequency\n",
    "\n",
    "\n",
    "\n",
    "x_heater = 100; y_heater = 165 # put the coordinate of center of the interface of the heater here. \n",
    "x_region_line_center = 314 ; y_region_line_center = 185 # for the region of analysis, find the edge which is closest to the heater, write down the center of this edge here \n",
    "dx = 100 ; dy = 50 ; gap = 5 ; px = 25/10**6 # dx, dy indicate the width of the region of analysis, gap indicates the distance of evenly space isothermal lines within the region of analysis, px indicate real distance to pixel convertion, it means how long a pixel is in meter.\n",
    "direction = 'up-bottom' ; analysis_method = 'sine' #'right-left', 'fft'\n",
    "\n",
    "\"\"\"\n",
    "Here we define a region of analysis for the IR video, in which Angstrom method is applied.\n",
    "1. First we find the interface of the heater, and then find it's center and put the x and y coordinates in the code above (x_heater, y_heater).\n",
    "2. Next we draw a rectangle to indicate our region of analysis. We find the edge of the region which is closest to the heater,\n",
    "then we put the center of this edge (x_region_line_center,y_region_line_center) into the code above\n",
    "3. The you need to specify the width and length of this region of analysis, dx indicate the width in x direction, and dy indicate the width in y direction\n",
    "4. We calculate amplitude ratio from two evenly spaced isothermal lines, gap (in pixels) indicate the distance between these neighboring isothermal lines.\n",
    "5. px indicates the distance of a pixel in meters, for close up lens used in this study, px = 25 um.\n",
    "6. direction indicates the direction of heat propagate, possible values are 'up-bottom' , 'bottom-up','left-right', 'right-left'\n",
    "7. analysis_method indicates how we determine phase and amplitude from temperature measurements, we can either fit the temperature profiles using sinusoidal function, or use fast fourier transform, \n",
    "both approaches yields very similar results. use 'sine' or 'fft' here.\n",
    "\"\"\"\n",
    "\n",
    "# This section of code basically put input variables as dictionary to load into the program\n",
    "time_stamp = pd.read_csv(directory_path+'time data//'+file_name+\"_time\"+'.csv')\n",
    "analysis_region = {'f_heating':f_heating,'x_heater':x_heater,'y_heater':y_heater,'x_region_line_center':x_region_line_center,'y_region_line_center':y_region_line_center,\n",
    "                  'dx':dx,'dy':dy,'gap':gap,'px':px, 'direction':direction,'analysis_method':analysis_method,\n",
    "                   'directory_path':directory_path, 'file_path': directory_path+\"temperature data//\"+file_name+\"//\",'file_name':file_name}\n",
    "\n",
    "\n",
    "# create an instance of class 'temperature_preprocessing_extract_phase_amplitude' to use for temperature processing\n",
    "phase_amp_processor = temperature_preprocessing_extract_phase_amplitude(analysis_region,time_stamp)\n",
    "T_rec833 = phase_amp_processor.load_temperature_profiles() # take 3mins\n",
    "\n",
    "\"\"\"\n",
    "Loads the IR image (csv files) as a 3D array, first two dimentions are temperature at x,y locations for an IR image, the third dimension indicates image frame\n",
    "The reason to output this variable is because everytime load csv files into memory takes 3mins, if there are multiple region \n",
    "need to be analyzed for one IR video, I don't want to load them everytime. If you need to analyze another region for the same\n",
    "IR video, you should create another instance of 'temperature_preprocessing_extract_phase_amplitude', for exmaple phase_amp_processor_1,\n",
    "then because T_rec833 is already saved in memory, you don't have to load it again using phase_amp_processor.load_temperature_profiles().\n",
    "Instead, do this:\n",
    "\n",
    "phase_amp_processor_1 = temperature_preprocessing_extract_phase_amplitude(analysis_region,time_stamp)\n",
    "phase_amp_processor_1.temp_full = T_rec833\n",
    "\n",
    "and use phase_amp_processor_1 onwards.\n",
    "\n",
    "This add temperauture profile to the new instance\n",
    "\"\"\"\n",
    "\n",
    "df_amplitude_phase = phase_amp_processor.batch_process_horizontal_lines() \n",
    "phase_amp_processor.save_phase_amplitude_to_csv(df_amplitude_phase)\n",
    "\n",
    "\"\"\"\"\"\n",
    "How after loading temperature profiles into the instance, we use batch_process_horizontal_lines function to calculate amplitude ratio and phase differences,\n",
    "using: \n",
    "df_amplitude_phase = phase_amp_processor.batch_process_horizontal_lines() \n",
    "Then we save the results using:\n",
    "phase_amp_processor.save_phase_amplitude_to_csv(df_amplitude_phase)\n",
    "The saved csv file is in the folder 'phase amplitude data', such that we can load again in the future should we need to rerun this code,\n",
    "when you do that, use the code below:\n",
    "\n",
    "phase_amp_processor = temperature_preprocessing_extract_phase_amplitude(analysis_region,time_stamp)\n",
    "phase_amp_processor.load_phase_ampltude_csv()\n",
    "\n",
    "You don't have to reprocessing temperature measurements again.\n",
    "\"\"\"\"\""
   ]
  },
  {
   "cell_type": "code",
   "execution_count": 10,
   "metadata": {},
   "outputs": [
    {
     "name": "stdout",
     "output_type": "stream",
     "text": [
      "Optimization terminated successfully.\n",
      "         Current function value: 0.020117\n",
      "         Iterations: 99\n",
      "         Function evaluations: 212\n",
      " final_simplex: (array([[ -5.11561669, -12.47419393],\n",
      "       [ -5.11561669, -12.47422898],\n",
      "       [ -5.11561669, -12.47425151]]), array([0.02011728, 0.02011728, 0.02011728]))\n",
      "           fun: 0.02011727523475003\n",
      "       message: 'Optimization terminated successfully.'\n",
      "          nfev: 212\n",
      "           nit: 99\n",
      "        status: 0\n",
      "       success: True\n",
      "             x: array([ -5.11561669, -12.47419393])\n"
     ]
    },
    {
     "data": {
      "image/png": "[encoded data removed]",
      "text/plain": [
       "<Figure size 504x432 with 1 Axes>"
      ]
     },
     "metadata": {
      "needs_background": "light"
     },
     "output_type": "display_data"
    }
   ],
   "source": [
    "material_properties = {'L':3.76e-3,'r':4e-3,'cp':693,'rho':3120} # \n",
    "\"\"\"\n",
    "Here you need to specify the properties of the material:\n",
    "L: the length of sample in the direction of heat propagation, pay attention, it's the length in the direction of heat propagation\n",
    "r: radius if the crossection area is circle, a*b/(a+b) if crossection is rectangle. Note that crossection is perpendicular to the direction of heat propagation.\n",
    "cp: specific heat of the material. unit in J/kg.K\n",
    "rho: density of the material. unit kg/m3\n",
    "\"\"\"\n",
    "\n",
    "param_init = [-5,1] #log(alpha), #log(h)\n",
    "Angstrom_regression = least_square_regression_Angstrom(param_init, analysis_region,df_amplitude_phase, material_properties)\n",
    "result = Angstrom_regression.minimize_regression('phase-amplitude') #'phase'\n",
    "print(result)\n",
    "Angstrom_regression.show_fitting_results() # this code print fitting of the model to experimental data"
   ]
  },
  {
   "cell_type": "code",
   "execution_count": null,
   "metadata": {},
   "outputs": [],
   "source": [
    "# final_simplex: (array([[ -5.11561669, -12.47419393], the first element is log10(alpha), the second element is log10(h),\n",
    "# here alpha = 10**(-5.115616), and h = 10**(-12.4741)\n",
    "# "
   ]
  }
 ],
 "metadata": {
  "kernelspec": {
   "display_name": "Python 3",
   "language": "python",
   "name": "python3"
  },
  "language_info": {
   "codemirror_mode": {
    "name": "ipython",
    "version": 3
   },
   "file_extension": ".py",
   "mimetype": "text/x-python",
   "name": "python",
   "nbconvert_exporter": "python",
   "pygments_lexer": "ipython3",
   "version": "3.6.8"
  }
 },
 "nbformat": 4,
 "nbformat_minor": 2
}
