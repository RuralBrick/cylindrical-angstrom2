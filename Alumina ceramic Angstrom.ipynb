{
 "cells": [
  {
   "cell_type": "code",
   "execution_count": 1,
   "metadata": {},
   "outputs": [],
   "source": [
    "import sys\n",
    "#sys.path.insert(0, 'G://My Drive//Current Projects//Angstrom Method//Angstrom-method')\n",
    "# save blmcmc.py into the path specified in the directory above.\n",
    "\n",
    "sys.path.insert(0, 'C://Users//yuan//PycharmProjects//Angstrom-method')\n",
    "from blmcmc import temperature_preprocessing_extract_phase_amplitude, Metropolis_Hasting_sampler,least_square_regression_Angstrom, post_processing_results, multi_chain_Metropolis_Hasting\n",
    "import pandas as pd\n",
    "import numpy as np\n",
    "import matplotlib.pyplot as plt"
   ]
  },
  {
   "cell_type": "code",
   "execution_count": 2,
   "metadata": {},
   "outputs": [
    {
     "name": "stdout",
     "output_type": "stream",
     "text": [
      "A previous temperature dump file was found!\n"
     ]
    }
   ],
   "source": [
    "directory_path = \"C://Users//yuan//Desktop//Amgstrom_method//\" \n",
    "\n",
    "\"\"\"\n",
    "# This is the directory of the project, within this project, please create three folders with these names:\n",
    "\n",
    "1. temperature data\n",
    "2. time data\n",
    "3. phase amplitude data\n",
    "\n",
    "In the first folder, please create Folders where you save temperature csv files. For example, you have a IR video recording named\n",
    "IR_recording_X, then first you should create a folder under 'temperature data' called 'IR_recording_X'. Then you should\n",
    "export IR images from the IR video as csv files under this naming conventions, IR_recording_X_i.csv, where i indicate ith \n",
    "IR image.\n",
    "\n",
    "In the second folder, you need to indicate the time sequence that corresponds to the temperature csv files. In Filr software,\n",
    "Just create any region of interest and create a complete temporal plot, output this temporal plot as a csv file and name it under\n",
    "this convention: IR_recording_X_time.csv, then place this csv file into 'time data' folder.\n",
    "\n",
    "\n",
    "The third folder save processed temperature measurement results and obtain phase and amplitude within the region of analysis on the sample\n",
    "\n",
    "\"\"\"\n",
    "file_name = 'HYPC_Rec-000016' # The format of the file name, for instance, IR image as csv files in IR video should be saved as Rec-000833_0.csv,...Rec-000833_j.csv,...Rec-000833_N.csv\n",
    "f_heating = 0.5 #periodic heating frequency\n",
    "Tinf = 23.5 # ambient temperature\n",
    "\n",
    "\n",
    "x_heater = 537; y_heater = 255 # put the coordinate of center of the interface of the heater here. \n",
    "x_region_line_center = 505 ; y_region_line_center = 255 # for the region of analysis, find the edge which is closest to the heater, write down the center of this edge here \n",
    "dx = 60 ; dy = 50 ; gap = 5 ; px = 25/10**6 # dx, dy indicate the width of the region of analysis, gap indicates the distance of evenly space isothermal lines within the region of analysis, px indicate real distance to pixel convertion, it means how long a pixel is in meter.\n",
    "direction = 'right-left' ; analysis_method = 'fft' #'right-left', 'fft'\n",
    "\n",
    "\"\"\"\n",
    "Here we define a region of analysis for the IR video, in which Angstrom method is applied.\n",
    "1. First we find the interface of the heater, and then find it's center and put the x and y coordinates in the code above (x_heater, y_heater).\n",
    "2. Next we draw a rectangle to indicate our region of analysis. We find the edge of the region which is closest to the heater,\n",
    "then we put the center of this edge (x_region_line_center,y_region_line_center) into the code above\n",
    "3. The you need to specify the width and length of this region of analysis, dx indicate the width in x direction, and dy indicate the width in y direction\n",
    "4. We calculate amplitude ratio from two evenly spaced isothermal lines, gap (in pixels) indicate the distance between these neighboring isothermal lines.\n",
    "5. px indicates the distance of a pixel in meters, for close up lens used in this study, px = 25 um.\n",
    "6. direction indicates the direction of heat propagate, possible values are 'up-bottom' , 'bottom-up','left-right', 'right-left'\n",
    "7. analysis_method indicates how we determine phase and amplitude from temperature measurements, we can either fit the temperature profiles using sinusoidal function, or use fast fourier transform, \n",
    "both approaches yields very similar results. use 'sine' or 'fft' here.\n",
    "\"\"\"\n",
    "\n",
    "file_skip_number = 2 # this does not load all the csv files in the temperature data folder, instead it skip certain temperature data in between to reduce RAM requirement\n",
    "apply_filter = False # you can choose to turn on or off the digital filter for the temperature profile. Typically if you use fft it is not required, but if you use sine and the heating frequency is above 0.2 Hz, I suggest to turn this on\n",
    "\n",
    "# This section of code basically put input variables as dictionary to load into the program\n",
    "analysis_region = {'f_heating':f_heating,'file_skip':file_skip_number,'x_heater':x_heater,'y_heater':y_heater,'x_region_line_center':x_region_line_center,'y_region_line_center':y_region_line_center,\n",
    "                  'dx':dx,'dy':dy,'gap':gap,'px':px, 'direction':direction,'analysis_method':analysis_method,\n",
    "                   'directory_path':directory_path, 'file_path': directory_path+\"temperature data//\"+file_name+\"//\",'file_name':file_name}\n",
    "\n",
    "\n",
    "# create an instance of class 'temperature_preprocessing_extract_phase_amplitude' to use for temperature processing\n",
    "phase_amp_processor = temperature_preprocessing_extract_phase_amplitude(analysis_region)\n",
    "phase_amp_processor.load_temperature_profiles() # take 3mins\n",
    "# df_amplitude_phase = phase_amp_processor.batch_process_horizontal_lines(apply_filter) \n",
    "# phase_amp_processor.save_phase_amplitude_to_csv(df_amplitude_phase)\n",
    "\n",
    "\"\"\"\n",
    "Loads the IR image (csv files) as a 3D array, first two dimentions are temperature at x,y locations for an IR image, the third dimension indicates image frame\n",
    "The reason to output this variable is because everytime load csv files into memory takes 3mins, if there are multiple region \n",
    "need to be analyzed for one IR video, I don't want to load them everytime. This code automatically takes care of this by creating a dump file for the temperature data\n",
    "\"\"\"\n",
    "\n",
    "df_amplitude_phase = phase_amp_processor.batch_process_horizontal_lines(apply_filter) \n",
    "phase_amp_processor.save_phase_amplitude_to_csv(df_amplitude_phase)\n",
    "\n",
    "\n",
    "# How after loading temperature profiles into the instance, we use batch_process_horizontal_lines function to calculate amplitude ratio and phase differences,\n",
    "# using: \n",
    "# df_amplitude_phase = phase_amp_processor.batch_process_horizontal_lines() \n",
    "# Then we save the results using:\n",
    "# phase_amp_processor.save_phase_amplitude_to_csv(df_amplitude_phase)\n",
    "# The saved csv file is in the folder 'phase amplitude data', such that we can load again in the future should we need to rerun this code,\n",
    "# when you do that, use the code below:\n",
    "\n",
    "# phase_amp_processor = temperature_preprocessing_extract_phase_amplitude(analysis_region,time_stamp)\n",
    "# phase_amp_processor.load_phase_ampltude_csv()\n",
    "\n",
    "# You don't have to reprocessing temperature measurements again.\n"
   ]
  },
  {
   "cell_type": "code",
   "execution_count": 4,
   "metadata": {},
   "outputs": [],
   "source": [
    "#df_amplitude_phase"
   ]
  },
  {
   "cell_type": "code",
   "execution_count": 5,
   "metadata": {},
   "outputs": [
    {
     "data": {
      "text/plain": [
       "(0.001, 0.003)"
      ]
     },
     "execution_count": 5,
     "metadata": {},
     "output_type": "execute_result"
    },
    {
     "data": {
      "image/png": "[encoded data removed]",
      "text/plain": [
       "<Figure size 432x288 with 1 Axes>"
      ]
     },
     "metadata": {
      "needs_background": "light"
     },
     "output_type": "display_data"
    }
   ],
   "source": [
    "plt.scatter(df_amplitude_phase['x'],df_amplitude_phase['amp_ratio'])\n",
    "plt.xlim([0.001,0.003])"
   ]
  },
  {
   "cell_type": "code",
   "execution_count": 9,
   "metadata": {},
   "outputs": [
    {
     "name": "stdout",
     "output_type": "stream",
     "text": [
      "Optimization terminated successfully.\n",
      "         Current function value: 0.004235\n",
      "         Iterations: 108\n",
      "         Function evaluations: 217\n",
      " final_simplex: (array([[ -5.1044533 , -11.91353153],\n",
      "       [ -5.1044533 , -11.91347757],\n",
      "       [ -5.1044533 , -11.91358533]]), array([0.0042354, 0.0042354, 0.0042354]))\n",
      "           fun: 0.004235403182169709\n",
      "       message: 'Optimization terminated successfully.'\n",
      "          nfev: 217\n",
      "           nit: 108\n",
      "        status: 0\n",
      "       success: True\n",
      "             x: array([ -5.1044533 , -11.91353153])\n",
      "Thermal diffusivity is 7.86e-06 and h is 1.22e-12\n"
     ]
    },
    {
     "data": {
      "image/png": "[encoded data removed]",
      "text/plain": [
       "<Figure size 504x432 with 1 Axes>"
      ]
     },
     "metadata": {
      "needs_background": "light"
     },
     "output_type": "display_data"
    }
   ],
   "source": [
    "material_properties = {'L':6.5e-3,'r':0.76e-3,'cp':800,'rho':3950} # \n",
    "\"\"\"\n",
    "Here you need to specify the properties of the material:\n",
    "L: the length of sample in the direction of heat propagation, pay attention, it's the length in the direction of heat propagation\n",
    "r: radius if the crossection area is circle, a*b/(a+b) if crossection is rectangle. Note that crossection is perpendicular to the direction of heat propagation.\n",
    "cp: specific heat of the material. unit in J/kg.K\n",
    "rho: density of the material. unit kg/m3\n",
    "\"\"\"\n",
    "\n",
    "param_init = [-6,1] #log(alpha), #log(h)\n",
    "Angstrom_regression = least_square_regression_Angstrom(param_init, analysis_region,df_amplitude_phase, material_properties)\n",
    "result = Angstrom_regression.minimize_regression('phase-amplitude') #'phase'\n",
    "print(result)\n",
    "print('Thermal diffusivity is '+\"{0:.3g}\".format(10**(result.final_simplex[0][0][0]))+' and h is '+\"{0:.3g}\".format(10**(result.final_simplex[0][0][1])))\n",
    "Angstrom_regression.show_fitting_results() # this code print fitting of the model to experimental data"
   ]
  },
  {
   "cell_type": "code",
   "execution_count": null,
   "metadata": {},
   "outputs": [],
   "source": []
  }
 ],
 "metadata": {
  "kernelspec": {
   "display_name": "Python 3",
   "language": "python",
   "name": "python3"
  },
  "language_info": {
   "codemirror_mode": {
    "name": "ipython",
    "version": 3
   },
   "file_extension": ".py",
   "mimetype": "text/x-python",
   "name": "python",
   "nbconvert_exporter": "python",
   "pygments_lexer": "ipython3",
   "version": "3.7.7"
  }
 },
 "nbformat": 4,
 "nbformat_minor": 2
}
